{
 "cells": [
  {
   "cell_type": "code",
   "execution_count": 3,
   "metadata": {},
   "outputs": [],
   "source": [
    "class MenuItem:\n",
    "    def __init__(self, name, price):\n",
    "        self.name = name\n",
    "        self.price = price\n",
    "\n",
    "    def info(self):\n",
    "        return self.name + ': $' + str(self.price)\n",
    "\n",
    "    def get_total_price(self, count):\n",
    "        total_price = self.price * count\n",
    "        \n",
    "        # Jika count lebih besar dari atau sama dengan 3, kalikan dengan 0.9\n",
    "        if count >= 3:\n",
    "           total_price *= 0.9\n",
    "        \n",
    "        # Bulatkan total_price ke nomor non-desimal terdekat dan return nilainya\n",
    "        return round(total_price)\n"
   ]
  },
  {
   "cell_type": "code",
   "execution_count": 4,
   "metadata": {},
   "outputs": [
    {
     "name": "stdout",
     "output_type": "stream",
     "text": [
      "1. Roti Lapis: $5\n",
      "2. Kue Coklat: $4\n",
      "3. Kopi: $3\n",
      "4. Jus Jeruk: $2\n",
      "--------------------\n",
      "Masukkan nomor menu: 1\n",
      "Item yang di pilih: Kue Coklat\n",
      "Jumlah pesanan (diskon 10% untuk 3 atau lebih): 123\n",
      "Total harga adalah $443\n"
     ]
    }
   ],
   "source": [
    "menu_item1 = MenuItem('Roti Lapis', 5)\n",
    "menu_item2 = MenuItem('Kue Coklat', 4)\n",
    "menu_item3 = MenuItem('Kopi', 3)\n",
    "menu_item4 = MenuItem('Jus Jeruk', 2)\n",
    "\n",
    "menu_items = [menu_item1, menu_item2, menu_item3, menu_item4]\n",
    "\n",
    "index = 1\n",
    "\n",
    "for menu_item in menu_items:\n",
    "    print(str(index) + '. ' + menu_item.info())\n",
    "    index += 1\n",
    "\n",
    "print('--------------------')\n",
    "\n",
    "order = int(input('Masukkan nomor menu: '))\n",
    "selected_menu = menu_items[order]\n",
    "print('Item yang di pilih: ' + selected_menu.name)\n",
    "\n",
    "# Terima input dari console, dan Berikan input ke variable count\n",
    "count = int(input('Jumlah pesanan (diskon 10% untuk 3 atau lebih): '))\n",
    "\n",
    "# Panggil method get_total_price \n",
    "result = selected_menu.get_total_price(count) \n",
    "\n",
    "# Cetak 'Total harga adalah $____'\n",
    "print('Total harga adalah $' + str(result))\n"
   ]
  },
  {
   "cell_type": "markdown",
   "metadata": {},
   "source": [
    "<h1> Second Method</h1>"
   ]
  },
  {
   "cell_type": "code",
   "execution_count": 5,
   "metadata": {},
   "outputs": [],
   "source": [
    "class MenuItem:\n",
    "    def __init__(self, name, price):\n",
    "        self.name = name\n",
    "        self.price = price\n",
    "\n",
    "    def info(self):\n",
    "        return self.name + ': $' + str(self.price)\n",
    "\n",
    "    def get_total_price(self, count):\n",
    "        total_price = self.price * count\n",
    "\n",
    "        if count >= 3:\n",
    "            total_price *= 0.9\n",
    "\n",
    "        return round(total_price)\n"
   ]
  },
  {
   "cell_type": "code",
   "execution_count": 6,
   "metadata": {},
   "outputs": [],
   "source": [
    "#from menu_item import MenuItem\n",
    "\n",
    "class Food(MenuItem):\n",
    "    def __init__(self, name, price, calorie_count):\n",
    "        super().__init__(name, price)\n",
    "        self.calorie_count = calorie_count\n",
    "    \n",
    "    def info(self):\n",
    "        return self.name + ': $' + str(self.price) + ' (' + str(self.calorie_count) + 'kkal)'\n",
    "    \n",
    "    def calorie_info(self):\n",
    "        print('kkal: ' + str(self.calorie_count))\n"
   ]
  },
  {
   "cell_type": "code",
   "execution_count": 7,
   "metadata": {},
   "outputs": [],
   "source": [
    "#from menu_item import MenuItem\n",
    "\n",
    "class Drink(MenuItem):\n",
    "    def __init__(self, name, price, volume):\n",
    "        super().__init__(name, price)\n",
    "        self.volume = volume\n",
    "\n",
    "    def info(self):\n",
    "        return self.name + ': $' + str(self.price) + ' (' + str(self.volume) + 'mL)'\n"
   ]
  },
  {
   "cell_type": "code",
   "execution_count": 9,
   "metadata": {},
   "outputs": [
    {
     "name": "stdout",
     "output_type": "stream",
     "text": [
      "Makanan\n",
      "1. Roti Lapis: $5 (330kkal)\n",
      "2. Kue Coklat: $4 (450kkal)\n",
      "3. Kue Sus: $2 (180kkal)\n",
      "Minuman\n",
      "1. Kopi: $3 (180mL)\n",
      "2. Jus Jeruk: $2 (350mL)\n",
      "3. Espresso: $3 (30mL)\n",
      "--------------------\n",
      "Masukkan nomor makanan: 1\n",
      "Masukkan nomor minuman: 1\n",
      "Mau berapa paket makanan? (Diskon 10% untuk 3 atau lebih): 12\n",
      "Total harga adalah $65\n"
     ]
    }
   ],
   "source": [
    "#from food import Food\n",
    "#from drink import Drink\n",
    "\n",
    "food1 = Food('Roti Lapis', 5, 330)\n",
    "food2 = Food('Kue Coklat', 4, 450)\n",
    "food3 = Food('Kue Sus', 2, 180)\n",
    "\n",
    "foods = [food1, food2, food3]\n",
    "\n",
    "drink1 = Drink('Kopi', 3, 180)\n",
    "drink2 = Drink('Jus Jeruk', 2, 350)\n",
    "drink3 = Drink('Espresso', 3, 30)\n",
    "\n",
    "drinks = [drink1, drink2, drink3]\n",
    "\n",
    "print('Makanan')\n",
    "index = 1\n",
    "for food in foods:\n",
    "    print(str(index) + '. ' + food.info())\n",
    "    index += 1\n",
    "\n",
    "print('Minuman')\n",
    "index = 1\n",
    "for drink in drinks:\n",
    "    print(str(index) + '. ' + drink.info())\n",
    "    index += 1\n",
    "\n",
    "print('--------------------')\n",
    "\n",
    "food_order = int(input('Masukkan nomor makanan: '))\n",
    "selected_food = foods[food_order]\n",
    "\n",
    "drink_order = int(input('Masukkan nomor minuman: '))\n",
    "selected_drink = drinks[drink_order]\n",
    "\n",
    "# Ambil input dari console dan tetapkan ke variable count\n",
    "count = int(input('Mau berapa paket makanan? (Diskon 10% untuk 3 atau lebih): '))\n",
    "\n",
    "# Panggil method get_total_price dari selected_food dan selected_drink\n",
    "result = selected_food.get_total_price(count) + selected_drink.get_total_price(count)\n",
    "\n",
    "# Cetak 'Total harga adalah $____'\n",
    "print('Total harga adalah $' + str(result))\n"
   ]
  },
  {
   "cell_type": "code",
   "execution_count": null,
   "metadata": {},
   "outputs": [],
   "source": []
  }
 ],
 "metadata": {
  "kernelspec": {
   "display_name": "Python 3",
   "language": "python",
   "name": "python3"
  },
  "language_info": {
   "codemirror_mode": {
    "name": "ipython",
    "version": 3
   },
   "file_extension": ".py",
   "mimetype": "text/x-python",
   "name": "python",
   "nbconvert_exporter": "python",
   "pygments_lexer": "ipython3",
   "version": "3.7.6"
  }
 },
 "nbformat": 4,
 "nbformat_minor": 4
}
